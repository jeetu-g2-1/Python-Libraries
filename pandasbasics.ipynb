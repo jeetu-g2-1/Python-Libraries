{
  "nbformat": 4,
  "nbformat_minor": 0,
  "metadata": {
    "colab": {
      "provenance": [],
      "authorship_tag": "ABX9TyNpolZGNvnKBWjcxjNuxSGm",
      "include_colab_link": true
    },
    "kernelspec": {
      "name": "python3",
      "display_name": "Python 3"
    },
    "language_info": {
      "name": "python"
    }
  },
  "cells": [
    {
      "cell_type": "markdown",
      "metadata": {
        "id": "view-in-github",
        "colab_type": "text"
      },
      "source": [
        "<a href=\"https://colab.research.google.com/github/jeetu-g2-1/Python-Libraries/blob/main/pandasbasics.ipynb\" target=\"_parent\"><img src=\"https://colab.research.google.com/assets/colab-badge.svg\" alt=\"Open In Colab\"/></a>"
      ]
    },
    {
      "cell_type": "markdown",
      "source": [
        "\n",
        "#**Python Library pandas**\n",
        "**It is widely used for data manipulation and analysis. It provides data structures and functions for efficiently working with structured data, such as tables and time series.**"
      ],
      "metadata": {
        "id": "RMoHd5k6lAxi"
      }
    },
    {
      "cell_type": "code",
      "source": [
        "import pandas as pd"
      ],
      "metadata": {
        "id": "xHLQZgBHmMAV"
      },
      "execution_count": 1,
      "outputs": []
    },
    {
      "cell_type": "code",
      "source": [
        "df=pd.DataFrame({\"Name\":[\"Braund\"]})"
      ],
      "metadata": {
        "id": "CowdkREJmZSj"
      },
      "execution_count": null,
      "outputs": []
    }
  ]
}