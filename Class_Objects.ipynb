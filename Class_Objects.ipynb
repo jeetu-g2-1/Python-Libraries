{
  "nbformat": 4,
  "nbformat_minor": 0,
  "metadata": {
    "colab": {
      "provenance": [],
      "authorship_tag": "ABX9TyMvRs9IF9KBCjwIzsY124AT",
      "include_colab_link": true
    },
    "kernelspec": {
      "name": "python3",
      "display_name": "Python 3"
    },
    "language_info": {
      "name": "python"
    }
  },
  "cells": [
    {
      "cell_type": "markdown",
      "metadata": {
        "id": "view-in-github",
        "colab_type": "text"
      },
      "source": [
        "<a href=\"https://colab.research.google.com/github/jeetu-g2-1/Python-Libraries/blob/main/Class_Objects.ipynb\" target=\"_parent\"><img src=\"https://colab.research.google.com/assets/colab-badge.svg\" alt=\"Open In Colab\"/></a>"
      ]
    },
    {
      "cell_type": "markdown",
      "source": [
        "\n",
        "\n",
        "---**OOPS**---<br>\n",
        "In Python's object-oriented programming (OOP) paradigm, a class is a blueprint for creating objects. Objects have attributes (characteristics or properties) and behaviors (actions or methods). Constructors and methods are two types of functions defined within a class.\n",
        "\n",
        "```\n",
        "# This is formatted as code\n",
        "```\n",
        "\n",
        "\n",
        "\n"
      ],
      "metadata": {
        "id": "Cr-RBgNW9JmX"
      }
    },
    {
      "cell_type": "code",
      "source": [
        "class Circle(object):\n",
        "    def __init__(self,radius,color):\n",
        "        self.rad=radius   #attributes\n",
        "        self.col=color\n",
        "    def add_rad(self,r):\n",
        "        self.r1=r+self.rad   #mehods\n",
        "        self.r2=self.r1+r\n",
        "        print(self.rad)\n",
        "        print(self.r1)\n",
        "        print(self.r2)"
      ],
      "metadata": {
        "id": "yandM1WG9lwt"
      },
      "execution_count": 7,
      "outputs": []
    },
    {
      "cell_type": "code",
      "source": [
        "c1=Circle(8,\"Blue\")\n",
        "c1.add_rad(2)\n",
        "print(c1.col)"
      ],
      "metadata": {
        "colab": {
          "base_uri": "https://localhost:8080/"
        },
        "id": "Oq9WPvHt9xOW",
        "outputId": "39e87fd8-940d-4984-8147-5b24f25c431d"
      },
      "execution_count": 14,
      "outputs": [
        {
          "output_type": "stream",
          "name": "stdout",
          "text": [
            "8\n",
            "10\n",
            "12\n",
            "Blue\n"
          ]
        }
      ]
    }
  ]
}