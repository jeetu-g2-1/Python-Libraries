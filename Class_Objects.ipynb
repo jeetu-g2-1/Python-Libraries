{
  "nbformat": 4,
  "nbformat_minor": 0,
  "metadata": {
    "colab": {
      "provenance": [],
      "authorship_tag": "ABX9TyNYrKEJIi1QxVU850RqFrnW",
      "include_colab_link": true
    },
    "kernelspec": {
      "name": "python3",
      "display_name": "Python 3"
    },
    "language_info": {
      "name": "python"
    }
  },
  "cells": [
    {
      "cell_type": "markdown",
      "metadata": {
        "id": "view-in-github",
        "colab_type": "text"
      },
      "source": [
        "<a href=\"https://colab.research.google.com/github/jeetu-g2-1/Python-Libraries/blob/main/Class_Objects.ipynb\" target=\"_parent\"><img src=\"https://colab.research.google.com/assets/colab-badge.svg\" alt=\"Open In Colab\"/></a>"
      ]
    },
    {
      "cell_type": "markdown",
      "source": [
        "\n",
        "\n",
        "---**OOPS**---<br>\n",
        "In Python's object-oriented programming (OOP) paradigm, a class is a blueprint for creating objects. Objects have attributes (characteristics or properties) and behaviors (actions or methods). Constructors and methods are two types of functions defined within a class.\n",
        "\n",
        "```\n",
        "# A class is a blueprint or template for creating objects. It defines the structure and behavior that its objects will have.\n",
        "```\n",
        "\n",
        "\n",
        "\n"
      ],
      "metadata": {
        "id": "Cr-RBgNW9JmX"
      }
    },
    {
      "cell_type": "code",
      "source": [
        "import matplotlib.pyplot as plt"
      ],
      "metadata": {
        "id": "rr91_BgJtX4g"
      },
      "execution_count": 4,
      "outputs": []
    },
    {
      "cell_type": "code",
      "source": [
        "class Circle(object):\n",
        "    def __init__(self,radius,color):\n",
        "        self.rad=radius   #attributes\n",
        "        self.col=color\n",
        "    def add_rad(self,r):\n",
        "        self.r1=r+self.rad   #mehods\n",
        "        self.r2=self.r1+r\n",
        "        print(self.rad)\n",
        "        print(self.r1)\n",
        "        print(self.r2)\n",
        "    def drawCircle(self):\n",
        "      plt.gca().add_patch(plt.Circle((0, 0), radius=self.rad, fc=self.col))\n",
        "      plt.axis('scaled')\n",
        "      plt.show()\n",
        ""
      ],
      "metadata": {
        "id": "yandM1WG9lwt"
      },
      "execution_count": 5,
      "outputs": []
    },
    {
      "cell_type": "code",
      "source": [
        "c1=Circle(8,\"Blue\")\n",
        "c1.drawCircle()\n",
        "c1.add_rad(2)\n",
        "print(c1.col)"
      ],
      "metadata": {
        "colab": {
          "base_uri": "https://localhost:8080/",
          "height": 499
        },
        "id": "Oq9WPvHt9xOW",
        "outputId": "801a653a-0d6f-4b7e-b261-12e24ccf3d24"
      },
      "execution_count": 6,
      "outputs": [
        {
          "output_type": "display_data",
          "data": {
            "text/plain": [
              "<Figure size 640x480 with 1 Axes>"
            ],
            "image/png": "[encoded data removed]"
          },
          "metadata": {}
        },
        {
          "output_type": "stream",
          "name": "stdout",
          "text": [
            "8\n",
            "10\n",
            "12\n",
            "Blue\n"
          ]
        }
      ]
    }
  ]
}